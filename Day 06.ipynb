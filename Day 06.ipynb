{
 "cells": [
  {
   "cell_type": "markdown",
   "metadata": {
    "hideCode": false,
    "hidePrompt": false
   },
   "source": [
    "<center><h1>Diving into Data Exploration</h1></center>"
   ]
  },
  {
   "cell_type": "markdown",
   "metadata": {
    "hideCode": false,
    "hidePrompt": false
   },
   "source": [
    "## Table of contents\n",
    "\n",
    "* [Count Plot](#count)\n",
    "* [Bar Plot](#bar)\n",
    "* [Stacked Bar Plot](#stack)\n",
    "* [Pie Charts](#pie)\n",
    "* [Scatter Plot](#scatter)\n",
    "* [Line Plot](#line)\n",
    "* [Histograms](#histograms)\n",
    "* [Joint Plot](#joint)\n",
    "* [Box Plot](#box)\n",
    "* [Violin Plot](#violin)\n",
    "* [Heatmap](#heatmap)\n",
    "* [Correlation Matrix](#correlation)\n",
    "* [Resources](#resources)\n",
    "* [Practice Project: Data Exploration](#practice)"
   ]
  },
  {
   "cell_type": "markdown",
   "metadata": {
    "hideCode": false,
    "hidePrompt": false
   },
   "source": [
    "## Importing Necessary Libraries for Data Exploration"
   ]
  },
  {
   "cell_type": "code",
   "execution_count": 3,
   "metadata": {
    "hideCode": false,
    "hidePrompt": false
   },
   "outputs": [],
   "source": [
    "import matplotlib.pyplot as plt\n",
    "%matplotlib inline\n",
    "import seaborn as sns\n",
    "sns.set() # Apply the default seaborn theme, scaling, and color palette\n",
    "\n",
    "import pandas as pd\n",
    "import numpy as np\n",
    "\n",
    "import warnings\n",
    "warnings.filterwarnings(\"ignore\")"
   ]
  },
  {
   "cell_type": "markdown",
   "metadata": {},
   "source": [
    "### About the dataset\n",
    "\n",
    "Food servers’ tips in restaurants may be influenced by many factors, including the nature of the restaurant, size of the party, and table locations in the restaurant. Restaurant managers need to know which factors matter when they assign tables to food servers. For the sake of staff morale, they usually want to avoid either the substance or the appearance of unfair treatment of the servers, for whom tips (at least in restaurants in the United States) are a major component of pay. In one restaurant, a food server recorded the following data on all customers they served during an interval of two and a half months in early 1990. The restaurant, located in a suburban shopping mall, was part of a national chain and served a varied menu. In observance of local law, the restaurant offered to seat in a non-smoking section to patrons who requested it. Each record includes a day and time, and taken together, they show the server’s work schedule.\n",
    "\n",
    "\n",
    "* $total\\_bill =$ Total bill (cost of the meal), including tax, in US dollars.\n",
    "* $tip$ = Tip (gratuity) in US dollars.\n",
    "* $sex$ = Sex of person paying for the meal.\n",
    "* $smoker$ = Smoker in party?\n",
    "* $day$ = Day of the week.\n",
    "* $time$ = Time of the meal.\n",
    "* $size$ = Size of the party"
   ]
  },
  {
   "cell_type": "markdown",
   "metadata": {
    "hideCode": false,
    "hidePrompt": false
   },
   "source": [
    "### Load the dataset"
   ]
  },
  {
   "cell_type": "code",
   "execution_count": 4,
   "metadata": {
    "hideCode": false,
    "hidePrompt": false,
    "scrolled": false
   },
   "outputs": [
    {
     "data": {
      "text/html": [
       "<div>\n",
       "<style scoped>\n",
       "    .dataframe tbody tr th:only-of-type {\n",
       "        vertical-align: middle;\n",
       "    }\n",
       "\n",
       "    .dataframe tbody tr th {\n",
       "        vertical-align: top;\n",
       "    }\n",
       "\n",
       "    .dataframe thead th {\n",
       "        text-align: right;\n",
       "    }\n",
       "</style>\n",
       "<table border=\"1\" class=\"dataframe\">\n",
       "  <thead>\n",
       "    <tr style=\"text-align: right;\">\n",
       "      <th></th>\n",
       "      <th>total_bill</th>\n",
       "      <th>tip</th>\n",
       "      <th>sex</th>\n",
       "      <th>smoker</th>\n",
       "      <th>day</th>\n",
       "      <th>time</th>\n",
       "      <th>size</th>\n",
       "    </tr>\n",
       "  </thead>\n",
       "  <tbody>\n",
       "    <tr>\n",
       "      <th>0</th>\n",
       "      <td>16.99</td>\n",
       "      <td>1.01</td>\n",
       "      <td>Female</td>\n",
       "      <td>No</td>\n",
       "      <td>Sun</td>\n",
       "      <td>Dinner</td>\n",
       "      <td>2</td>\n",
       "    </tr>\n",
       "    <tr>\n",
       "      <th>1</th>\n",
       "      <td>10.34</td>\n",
       "      <td>1.66</td>\n",
       "      <td>Male</td>\n",
       "      <td>No</td>\n",
       "      <td>Sun</td>\n",
       "      <td>Dinner</td>\n",
       "      <td>3</td>\n",
       "    </tr>\n",
       "    <tr>\n",
       "      <th>2</th>\n",
       "      <td>21.01</td>\n",
       "      <td>3.50</td>\n",
       "      <td>Male</td>\n",
       "      <td>No</td>\n",
       "      <td>Sun</td>\n",
       "      <td>Dinner</td>\n",
       "      <td>3</td>\n",
       "    </tr>\n",
       "    <tr>\n",
       "      <th>3</th>\n",
       "      <td>23.68</td>\n",
       "      <td>3.31</td>\n",
       "      <td>Male</td>\n",
       "      <td>No</td>\n",
       "      <td>Sun</td>\n",
       "      <td>Dinner</td>\n",
       "      <td>2</td>\n",
       "    </tr>\n",
       "    <tr>\n",
       "      <th>4</th>\n",
       "      <td>24.59</td>\n",
       "      <td>3.61</td>\n",
       "      <td>Female</td>\n",
       "      <td>No</td>\n",
       "      <td>Sun</td>\n",
       "      <td>Dinner</td>\n",
       "      <td>4</td>\n",
       "    </tr>\n",
       "  </tbody>\n",
       "</table>\n",
       "</div>"
      ],
      "text/plain": [
       "   total_bill   tip     sex smoker  day    time  size\n",
       "0       16.99  1.01  Female     No  Sun  Dinner     2\n",
       "1       10.34  1.66    Male     No  Sun  Dinner     3\n",
       "2       21.01  3.50    Male     No  Sun  Dinner     3\n",
       "3       23.68  3.31    Male     No  Sun  Dinner     2\n",
       "4       24.59  3.61  Female     No  Sun  Dinner     4"
      ]
     },
     "execution_count": 4,
     "metadata": {},
     "output_type": "execute_result"
    }
   ],
   "source": [
    "tips = sns.load_dataset(\"tips\")  # Loaded in a Pandas DataFrame\n",
    "tips.head()"
   ]
  },
  {
   "cell_type": "code",
   "execution_count": 12,
   "metadata": {
    "scrolled": true
   },
   "outputs": [
    {
     "data": {
      "text/plain": [
       "day\n",
       "Thur    17.682742\n",
       "Fri     17.151579\n",
       "Sat     20.441379\n",
       "Sun     21.410000\n",
       "Name: total_bill, dtype: float64"
      ]
     },
     "execution_count": 12,
     "metadata": {},
     "output_type": "execute_result"
    }
   ],
   "source": [
    "tips.groupby(\"day\").total_bill.mean()"
   ]
  },
  {
   "cell_type": "markdown",
   "metadata": {
    "hideCode": false,
    "hidePrompt": false
   },
   "source": [
    "<a id='count'></a>\n",
    "## Count Plot\n",
    "\n",
    "A countplot is kind of like a bar plot for some categorical variable. It simply shows the number of occurrences of a certain type of category.\n",
    "\n",
    "**Documentation:** https://seaborn.pydata.org/generated/seaborn.countplot.html"
   ]
  },
  {
   "cell_type": "code",
   "execution_count": 5,
   "metadata": {
    "scrolled": true
   },
   "outputs": [
    {
     "data": {
      "image/png": "[encoded data removed]",
      "text/plain": [
       "<Figure size 432x288 with 1 Axes>"
      ]
     },
     "metadata": {
      "needs_background": "light"
     },
     "output_type": "display_data"
    }
   ],
   "source": [
    "plot = sns.countplot(tips[\"sex\"])\n",
    "\n",
    "# plot.figure.savefig(\"file.png\", dpi=300) # To export your plot"
   ]
  },
  {
   "cell_type": "code",
   "execution_count": null,
   "metadata": {
    "scrolled": false
   },
   "outputs": [],
   "source": [
    "plot = sns.countplot(tips[\"sex\"], \n",
    "                     hue=tips[\"day\"])\n",
    "\n",
    "# In seaborn, the hue parameter determines which column in the data frame should be used for colour encoding."
   ]
  },
  {
   "cell_type": "code",
   "execution_count": null,
   "metadata": {},
   "outputs": [],
   "source": [
    "# Using pandas\n",
    "\n",
    "plot = tips[\"sex\"].value_counts().plot(kind=\"bar\")"
   ]
  },
  {
   "cell_type": "markdown",
   "metadata": {},
   "source": [
    "<a id='bar'></a>\n",
    "## Bar Plot\n",
    "\n",
    "A barplot (or barchart) is one of the most common type of plot. It shows the **relationship between a numerical variable and a categorical variable.** \n",
    "\n",
    "**For example,** you can display the **average total_bill** for different **days** using bar chart. \n",
    "\n",
    "**Documentation:** https://seaborn.pydata.org/generated/seaborn.barplot.html\n",
    "\n",
    "Barcharts are often confounded with histograms, which is highly different. (It has only a numerical variable as input and shows its distribution). \n",
    "\n",
    "A common mistake is to use barplots to represent the average value of each group. If you have several values per group, showing only the average dissimulate a part of the information. At least, you should show the number of observation per group and the confidence interval of each group. \n",
    "\n",
    "**Last tip:** ordering the bars often makes the chart more informative.\n",
    "\n",
    "**Learn Detail About Confidence Interval (CI):** https://www.mathsisfun.com/data/confidence-interval.html"
   ]
  },
  {
   "cell_type": "code",
   "execution_count": null,
   "metadata": {
    "hideCode": false,
    "hidePrompt": false,
    "scrolled": false
   },
   "outputs": [],
   "source": [
    "plot = sns.barplot(x=tips[\"day\"], \n",
    "                   y=tips[\"total_bill\"])"
   ]
  },
  {
   "cell_type": "code",
   "execution_count": null,
   "metadata": {
    "hideCode": false,
    "hidePrompt": false,
    "scrolled": true
   },
   "outputs": [],
   "source": [
    "plot = sns.barplot(x=tips[\"day\"], \n",
    "                   y=tips[\"total_bill\"], \n",
    "                   hue=tips[\"sex\"])"
   ]
  },
  {
   "cell_type": "markdown",
   "metadata": {},
   "source": [
    "<a id='stack'></a>\n",
    "## Stacked Bar Plot\n",
    "\n",
    "If you have groups and subgroups, you probably want to display the subgroups values in a grouped barplot or a stacked barplot. In the first case, subgroups are displayed one beside each other, in the second case subgroups are displayed on top of each other.\n",
    "\n",
    "A stacked bar chart is a good visualization that shows how the frequencies are spread between the two categorical variables.\n",
    "\n",
    "Seaborn doesn't support stacked bar chart. However, we can use Pandas or Matlotlib.\n",
    "\n",
    "**Documentation:** https://matplotlib.org/3.1.0/gallery/lines_bars_and_markers/bar_stacked.html"
   ]
  },
  {
   "cell_type": "code",
   "execution_count": null,
   "metadata": {},
   "outputs": [],
   "source": [
    "plot = (tips\n",
    "        .groupby(['day', 'sex'])\n",
    "        .size()\n",
    "        .unstack()\n",
    "        .plot\n",
    "        .bar(stacked=True))"
   ]
  },
  {
   "cell_type": "markdown",
   "metadata": {},
   "source": [
    "<a id='pie'></a>\n",
    "## Pie Charts\n",
    "\n",
    "Pie chart is probably one of the most common type of chart. It is a circular graphic which is divided into slices to illustrate numerical proportion. The point of a pie chart is to show the relationship of parts out of a whole. \n",
    "\n",
    "**For Example:** Plot the pie slices for the **sex** column.\n",
    "\n",
    "**Warning!** Pie chart is easily the worst way to convey information ever developed in the history of data visualization. Thus, it must be avoided and replaced with barplot most of the time. Indeed, it is really difficult for a human to make the difference between the size of similar slices.\n",
    "\n",
    "Seaborn doesn't support pie chart. However, we can use Pandas or Matlotlib.\n",
    "\n",
    "**Documentation:** https://matplotlib.org/api/_as_gen/matplotlib.pyplot.pie.html"
   ]
  },
  {
   "cell_type": "code",
   "execution_count": null,
   "metadata": {
    "scrolled": true
   },
   "outputs": [],
   "source": [
    "pie_data = tips['day'].value_counts()\n",
    "\n",
    "plot = pie_data.plot(kind='pie',\n",
    "                     subplots=True,\n",
    "                     figsize=(5,5))"
   ]
  },
  {
   "cell_type": "code",
   "execution_count": null,
   "metadata": {},
   "outputs": [],
   "source": [
    "pie_data = tips['day'].value_counts()\n",
    "\n",
    "plt.figure(figsize=(5,5))\n",
    "\n",
    "plt.pie(pie_data.values, \n",
    "        labels=pie_data.index,\n",
    "        autopct='%.1f%%')\n",
    "\n",
    "plt.show()"
   ]
  },
  {
   "cell_type": "markdown",
   "metadata": {},
   "source": [
    "<a id='scatter'></a>\n",
    "## Scatter Plot\n",
    "\n",
    "A Scatterplot displays the value of 2 sets of data on 2 dimensions. Each dot represents an observation. The position on the X (horizontal) and Y (vertical) axis represents the values of the 2 variables. \n",
    "\n",
    "It is really useful to study the relationship between both variables. It is common to provide even more information using colors or shapes (to show groups, or a third variable).\n",
    "\n",
    "**Documentation:** https://seaborn.pydata.org/generated/seaborn.scatterplot.html"
   ]
  },
  {
   "cell_type": "code",
   "execution_count": null,
   "metadata": {
    "scrolled": true
   },
   "outputs": [],
   "source": [
    "plt.figure(figsize=(8,5))\n",
    "\n",
    "plot = sns.scatterplot(x=tips[\"total_bill\"],\n",
    "                       y=tips[\"tip\"])"
   ]
  },
  {
   "cell_type": "code",
   "execution_count": null,
   "metadata": {},
   "outputs": [],
   "source": [
    "plt.figure(figsize=(10,6))\n",
    "\n",
    "plot = sns.scatterplot(x=tips[\"total_bill\"],\n",
    "                       y=tips[\"tip\"],\n",
    "                       hue=tips[\"time\"])"
   ]
  },
  {
   "cell_type": "markdown",
   "metadata": {},
   "source": [
    "<a id='line'></a>\n",
    "## Line Plot\n",
    "\n",
    "A line chart or line graph is a type of chart which displays information as a series of data points called ‘markers’ connected by straight line segments. It is similar to a scatter plot except that the measurement points are ordered (typically by their x-axis value) and joined with straight line segments.\n",
    "\n",
    "Line plots are used to track trends, and changes over short and long periods of time."
   ]
  },
  {
   "cell_type": "code",
   "execution_count": null,
   "metadata": {
    "scrolled": false
   },
   "outputs": [],
   "source": [
    "plt.figure(figsize=(15,6))\n",
    "\n",
    "plot = sns.lineplot(x=tips[\"total_bill\"],\n",
    "                    y=tips[\"tip\"])\n",
    "plot.set_xlim(0,56)\n",
    "plot.set_xticks(range(0,56))\n",
    "\n",
    "plot.set_ylim(0,11)\n",
    "plot.set_yticks(range(0,11));"
   ]
  },
  {
   "cell_type": "markdown",
   "metadata": {},
   "source": [
    "<a id='histograms'></a>\n",
    "## Histograms\n",
    "\n",
    "A histogram is a plot that lets you discover, and show, the underlying frequency distribution (shape) of a set of continuous data. This allows the inspection of the data for its underlying distribution (e.g., normal distribution), outliers, skewness, etc.\n",
    "\n",
    "**Documentation:** https://seaborn.pydata.org/generated/seaborn.distplot.html\n",
    "\n",
    "**Learn about Normal Distribution:** https://www.mathsisfun.com/data/standard-normal-distribution.html"
   ]
  },
  {
   "cell_type": "code",
   "execution_count": null,
   "metadata": {
    "scrolled": false
   },
   "outputs": [],
   "source": [
    "plot = sns.distplot(tips[\"total_bill\"],\n",
    "                    hist=True)"
   ]
  },
  {
   "cell_type": "markdown",
   "metadata": {},
   "source": [
    "<a id='joint'></a>\n",
    "## Joint Plot\n",
    "\n",
    "Jointplot (aka marginal plot) shows the relationship or correlation between the two variables along with histograms if the individual coordinates.\n",
    "\n",
    "**Documentation:** https://seaborn.pydata.org/generated/seaborn.jointplot.html"
   ]
  },
  {
   "cell_type": "code",
   "execution_count": null,
   "metadata": {},
   "outputs": [],
   "source": [
    "plot = sns.jointplot(x=tips[\"total_bill\"],\n",
    "                     y=tips[\"tip\"])"
   ]
  },
  {
   "cell_type": "code",
   "execution_count": null,
   "metadata": {
    "scrolled": true
   },
   "outputs": [],
   "source": [
    "plot = sns.jointplot(x=tips[\"total_bill\"],\n",
    "                     y=tips[\"tip\"],\n",
    "                     kind='reg')"
   ]
  },
  {
   "cell_type": "markdown",
   "metadata": {},
   "source": [
    "<a id='box'></a>\n",
    "## Box Plot\n",
    "\n",
    "Boxplot (aka whisker plot) is probably one of the most common type of graphic. It gives a nice summary of one or several numeric variables. The line that divides the box into 2 parts represents the median of the data. The end of the box shows the upper and lower quartiles. The extreme lines shows the highest and lowest value excluding outliers. \n",
    "\n",
    "Note that boxplot hide the number of values existing behind the variable. Thus, it is highly advised to print the number of observation, add unique observation with jitter or use a violinplot if you have many observations.\n",
    "\n",
    "**Documentation:** https://seaborn.pydata.org/generated/seaborn.boxplot.html\n",
    "\n",
    "**Learn about Quartiles:** https://www.mathsisfun.com/data/quartiles.html"
   ]
  },
  {
   "cell_type": "markdown",
   "metadata": {},
   "source": [
    "#### Anatomy of Boxplot\n",
    "\n",
    "<img src=\"imgs/box_plot_anatomy.png\" alt=\"drawing\" width=\"300\">\n",
    "\n",
    "The lines extending parallel from the boxes are known as the \"whiskers\", which are used to indicate variability outside the 3rd and 1st quartiles. Outliers are sometimes plotted as individual dots that are in-line with whiskers. Box Plots can be drawn either vertically or horizontally.\n",
    "\n",
    "Although Box Plots may seem primitive in comparison to a Histogram or Density Plot, they have the advantage of taking up less space, which is useful when comparing distributions between many groups or datasets.\n",
    "\n",
    "Here are the types of observations one can make from viewing a Box Plot:\n",
    "* What the key values are, such as: the average, median 25th percentile etc.\n",
    "* If there are any outliers and what their values are.\n",
    "* Is the data symmetrical.\n",
    "* How tightly is the data grouped.\n",
    "* If the data is skewed and if so, in what direction."
   ]
  },
  {
   "cell_type": "code",
   "execution_count": null,
   "metadata": {
    "scrolled": true
   },
   "outputs": [],
   "source": [
    "plot = sns.boxplot(tips[\"total_bill\"])"
   ]
  },
  {
   "cell_type": "markdown",
   "metadata": {},
   "source": [
    "Draw a vertical boxplot grouped by a categorical variable:"
   ]
  },
  {
   "cell_type": "code",
   "execution_count": null,
   "metadata": {
    "scrolled": false
   },
   "outputs": [],
   "source": [
    "plot = sns.boxplot(x=tips[\"day\"],\n",
    "                   y=tips[\"total_bill\"])"
   ]
  },
  {
   "cell_type": "markdown",
   "metadata": {},
   "source": [
    "Useing stripplot() to show the datapoints on top of the boxes:"
   ]
  },
  {
   "cell_type": "code",
   "execution_count": null,
   "metadata": {
    "scrolled": true
   },
   "outputs": [],
   "source": [
    "plot = sns.boxplot(x=tips[\"day\"],\n",
    "                   y=tips[\"total_bill\"])\n",
    "\n",
    "plot = sns.stripplot(x=tips[\"day\"],\n",
    "                     y=tips[\"total_bill\"],\n",
    "                     color=\".25\")"
   ]
  },
  {
   "cell_type": "markdown",
   "metadata": {},
   "source": [
    "<a id='violin'></a>\n",
    "## Violin Plot\n",
    "\n",
    "Violin plots allow to visualize the distribution and the probability density of a numeric variable for one or several groups. It is really close from a boxplot, but allows a deeper understanding of the density. \n",
    "\n",
    "Violins are particularly adapted when the amount of data is huge and showing individual observations gets impossible.\n",
    "\n",
    "Violinplots are a really convenient way to show the data and would probably deserve more attention compared to boxplot that can sometimes hide features of the data.\n",
    "\n",
    "**Documentation:** https://seaborn.pydata.org/generated/seaborn.violinplot.html"
   ]
  },
  {
   "cell_type": "markdown",
   "metadata": {},
   "source": [
    "#### Anatomy of Violin Plot\n",
    "\n",
    "<img src=\"imgs/violin_plot_anatomy.png\" alt=\"drawing\" width=\"400\">\n",
    "\n",
    "This chart is a combination of a Box Plot and a Density Plot that is rotated and placed on each side, to show the distribution shape of the data. The white dot in the middle is the median value and the thick black bar in the centre represents the interquartile range. The thin black line extended from it represents the upper (max) and lower (min) adjacent values in the data. Sometimes the graph marker is clipped from the end of this line."
   ]
  },
  {
   "cell_type": "code",
   "execution_count": null,
   "metadata": {},
   "outputs": [],
   "source": [
    "plot = sns.violinplot(x=tips[\"total_bill\"])"
   ]
  },
  {
   "cell_type": "markdown",
   "metadata": {},
   "source": [
    "Draw a vertical violinplot grouped by a categorical variable:"
   ]
  },
  {
   "cell_type": "code",
   "execution_count": null,
   "metadata": {
    "scrolled": true
   },
   "outputs": [],
   "source": [
    "plot = sns.violinplot(x=tips[\"day\"],\n",
    "                      y=tips[\"total_bill\"])"
   ]
  },
  {
   "cell_type": "markdown",
   "metadata": {},
   "source": [
    "<a id='heatmap'></a>\n",
    "## Heatmap\n",
    "\n",
    "Heatmaps visualise data through variations in colouring. When applied to a tabular format, Heatmaps are useful for cross-examining multivariate data, through placing variables in the rows and columns and colouring the cells within the table. Heatmaps are good for showing variance across multiple variables, revealing any patterns, displaying whether any variables are similar to each other, and for detecting if any correlations exist in-between them.\n",
    "\n",
    "**Documentation:** https://seaborn.pydata.org/generated/seaborn.heatmap.html"
   ]
  },
  {
   "cell_type": "markdown",
   "metadata": {},
   "source": [
    "#### Load data"
   ]
  },
  {
   "cell_type": "code",
   "execution_count": null,
   "metadata": {},
   "outputs": [],
   "source": [
    "flights = sns.load_dataset(\"flights\")\n",
    "flights.head()"
   ]
  },
  {
   "cell_type": "code",
   "execution_count": null,
   "metadata": {},
   "outputs": [],
   "source": [
    "flights_pivot = flights.pivot(\"month\", \"year\", \"passengers\")\n",
    "flights_pivot"
   ]
  },
  {
   "cell_type": "code",
   "execution_count": null,
   "metadata": {},
   "outputs": [],
   "source": [
    "plt.figure(figsize=(10,8))\n",
    "plot = sns.heatmap(flights_pivot, annot=True, fmt=\"d\")"
   ]
  },
  {
   "cell_type": "markdown",
   "metadata": {},
   "source": [
    "Here, all the rows are one category (labels displayed on the left or right side) and all the columns are another category (labels displayed on the top or bottom). The individual rows and columns are divided into the subcategories, which all match up with each other in a matrix. The cells contained within the table either contain colour-coded categorical data or numerical data, that is based on a colour scale. The data contained within a cell is based on the relationship between the two variables in the connecting row and column."
   ]
  },
  {
   "cell_type": "markdown",
   "metadata": {},
   "source": [
    "<a id='correlation'></a>\n",
    "## Correlation Matrix\n",
    "\n",
    "A correlation matrix is simply a table which displays the correlation coefficients for different variables. The matrix depicts the correlation between all the possible pairs of values in a table. It is a powerful tool to summarize a large dataset and to identify and visualize patterns in the given data.\n",
    "\n",
    "A correlation matrix consists of rows and columns that show the variables. Each cell in a table contains the correlation coefficient. The most commonly used correlation coefficient is Person correlation coefficient.\n",
    "\n",
    "In addition, the correlation matrix is frequently utilized in conjunction with other types of statistical analysis. For instance, it may be helpful in the analysis of multiple linear regression models. Remember that the models contain several independent variables. In multiple linear regression, the correlation matrix determines the correlation coefficients between the independent variables in a model.\n",
    "\n",
    "**Documentation:** https://seaborn.pydata.org/generated/seaborn.heatmap.html"
   ]
  },
  {
   "cell_type": "code",
   "execution_count": null,
   "metadata": {
    "scrolled": true
   },
   "outputs": [],
   "source": [
    "corr_mtx = tips.corr()\n",
    "corr_mtx"
   ]
  },
  {
   "cell_type": "code",
   "execution_count": null,
   "metadata": {
    "scrolled": true
   },
   "outputs": [],
   "source": [
    "plt.figure(figsize=(6,5))\n",
    "plot = sns.heatmap(corr_mtx, annot=True, fmt=\".2f\")"
   ]
  },
  {
   "cell_type": "markdown",
   "metadata": {},
   "source": [
    "Using a mask to plot only part of a matrix."
   ]
  },
  {
   "cell_type": "code",
   "execution_count": null,
   "metadata": {
    "scrolled": false
   },
   "outputs": [],
   "source": [
    "mask = np.zeros_like(corr_mtx)\n",
    "mask[np.triu_indices_from(mask)] = True\n",
    "\n",
    "with sns.axes_style(\"white\"):\n",
    "    plot = sns.heatmap(corr_mtx, mask=mask, annot=True, fmt=\".2f\")"
   ]
  },
  {
   "cell_type": "markdown",
   "metadata": {},
   "source": [
    "<a id='resources'></a>\n",
    "## Resources\n",
    "\n",
    "* **Seaborn Example gallery:** https://seaborn.pydata.org/examples/index.html\n",
    "* **Seaborn API reference:** https://seaborn.pydata.org/api.html\n",
    "* **Matplotlib Gallery:** https://matplotlib.org/3.1.0/gallery/index.html\n",
    "* **Learn the Basic Statistics & Probability:** https://www.mathsisfun.com/data/"
   ]
  },
  {
   "cell_type": "markdown",
   "metadata": {},
   "source": [
    "<a id='practice'></a>\n",
    "## Practice Project: Data Exploration\n",
    "\n",
    "* Create another Jupyter Notebook file to practice a Data Exploration project.\n",
    "* Use the steps from the Data Exploration part of the Data Science Pipeline."
   ]
  }
 ],
 "metadata": {
  "hide_code_all_hidden": false,
  "kernelspec": {
   "display_name": "Python 3",
   "language": "python",
   "name": "python3"
  },
  "language_info": {
   "codemirror_mode": {
    "name": "ipython",
    "version": 3
   },
   "file_extension": ".py",
   "mimetype": "text/x-python",
   "name": "python",
   "nbconvert_exporter": "python",
   "pygments_lexer": "ipython3",
   "version": "3.7.3"
  }
 },
 "nbformat": 4,
 "nbformat_minor": 2
}
